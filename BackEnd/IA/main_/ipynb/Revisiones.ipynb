{
 "cells": [
  {
   "cell_type": "code",
   "execution_count": null,
   "id": "e01d43bb",
   "metadata": {},
   "outputs": [
    {
     "name": "stdout",
     "output_type": "stream",
     "text": [
      "TensorFlow version: 2.19.0\n",
      "Keras version: 3.9.2\n",
      "Keras backend: tensorflow\n",
      "NumPy version: 2.1.3\n"
     ]
    }
   ],
   "source": [
    "# Script para verificar las versiones de las librerías y la configuración del entorno de trabajo.\n",
    "import os\n",
    "import tensorflow as tf\n",
    "import keras\n",
    "import matplotlib.pyplot as plt\n",
    "import numpy as np\n",
    "\n",
    "print(\"TensorFlow version:\", tf.__version__)\n",
    "print(\"Keras version:\", keras.__version__)\n",
    "print(\"Keras backend:\", tf.keras.backend.backend())\n",
    "print(\"NumPy version:\", np.__version__)"
   ]
  },
  {
   "cell_type": "code",
   "execution_count": null,
   "id": "9e8ffd50",
   "metadata": {},
   "outputs": [],
   "source": [
    "# Verificar si todos las personas tienen la misma cantidad de firmas\n",
    "DATASET_DIR = \"./resources\"\n",
    "\n",
    "# Lista de carpetas (una por persona)\n",
    "personas = [nombre for nombre in os.listdir(DATASET_DIR)\n",
    "            if os.path.isdir(os.path.join(DATASET_DIR, nombre))]\n",
    "\n",
    "# Mostrar resumen por persona\n",
    "for persona in personas:\n",
    "    path_persona = os.path.join(DATASET_DIR, persona)\n",
    "    firmas = [f for f in os.listdir(path_persona)\n",
    "              if f.lower().endswith(('.png', '.jpg', '.jpeg'))]\n",
    "    print(f\"{persona}: {len(firmas)} firma(s)\")"
   ]
  },
  {
   "cell_type": "code",
   "execution_count": null,
   "id": "7d629177",
   "metadata": {},
   "outputs": [],
   "source": [
    "# Mostrar 1 o 2 firma de cada persona:\n",
    "for persona in personas:\n",
    "    path_persona = os.path.join(DATASET_DIR, persona)\n",
    "    firmas = [f for f in os.listdir(path_persona)\n",
    "              if f.lower().endswith(('.png', '.jpg', '.jpeg'))]\n",
    "    for i in range(min(1, len(firmas))):\n",
    "        firma_path = os.path.join(path_persona, firmas[i])\n",
    "        img = plt.imread(firma_path)\n",
    "        plt.imshow(img)\n",
    "        plt.title(f\"{persona} -  #{i+1}\")\n",
    "        plt.axis('off')\n",
    "        plt.show()"
   ]
  },
  {
   "cell_type": "code",
   "execution_count": 46,
   "id": "787eebee",
   "metadata": {},
   "outputs": [
    {
     "name": "stdout",
     "output_type": "stream",
     "text": [
      "Datos del dataset:\n",
      "\u001b[92m-----------------------------------\u001b[0m\n",
      "\n",
      "#1 Total de personas: 100 👨‍👩‍👧‍👦\n",
      "#2 Total de carpetas: 100 📁\n",
      "#3 Total de firmas por persona: 2 🖊️\n",
      "#4 Total de firmas: 200 🖊️✅\n"
     ]
    }
   ],
   "source": [
    "print(\"Datos del dataset:\")\n",
    "print(f\"\\033[92m\" + \"-----------------------------------\" + \"\\033[0m\")\n",
    "\n",
    "# Mostrar total de firmas:\n",
    "print(f\"\\n#1 Total de personas: {len(personas)} 👨‍👩‍👧‍👦\")\n",
    "print(f\"#2 Total de carpetas: {len(os.listdir(DATASET_DIR))} 📁\")\n",
    "print(f\"#3 Total de firmas por persona: {sum(len(os.listdir(os.path.join(DATASET_DIR, persona))) for persona in personas) // len(personas)} 🖊️\")\n",
    "print(f\"#4 Total de firmas: {sum(len(os.listdir(os.path.join(DATASET_DIR, persona))) for persona in personas)} 🖊️✅\")\n"
   ]
  }
 ],
 "metadata": {
  "kernelspec": {
   "display_name": ".env",
   "language": "python",
   "name": "python3"
  },
  "language_info": {
   "codemirror_mode": {
    "name": "ipython",
    "version": 3
   },
   "file_extension": ".py",
   "mimetype": "text/x-python",
   "name": "python",
   "nbconvert_exporter": "python",
   "pygments_lexer": "ipython3",
   "version": "3.10.0"
  }
 },
 "nbformat": 4,
 "nbformat_minor": 5
}
