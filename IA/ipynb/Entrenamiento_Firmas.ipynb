{
 "cells": [
  {
   "cell_type": "code",
   "execution_count": null,
   "id": "7b855b8a",
   "metadata": {},
   "outputs": [],
   "source": [
    "import os\n",
    "import cv2\n",
    "import numpy as np\n",
    "import random\n",
    "from itertools import combinations\n",
    "import matplotlib.pyplot as plt"
   ]
  },
  {
   "cell_type": "code",
   "execution_count": null,
   "id": "616eeaae",
   "metadata": {},
   "outputs": [],
   "source": [
    "# Fijar semilla\n",
    "SEED = 42\n",
    "random.seed(SEED)\n",
    "np.random.seed(SEED)"
   ]
  },
  {
   "cell_type": "code",
   "execution_count": null,
   "id": "c1cfe7e9",
   "metadata": {},
   "outputs": [],
   "source": [
    "IMG_SIZE = (150, 50)  # Ancho x alto\n",
    "DATASET_DIR = \"dataset\"  # Cambia esta ruta si es necesario"
   ]
  },
  {
   "cell_type": "code",
   "execution_count": null,
   "id": "060284d7",
   "metadata": {},
   "outputs": [],
   "source": [
    "def preprocess_image(path):\n",
    "    img = cv2.imread(path, cv2.IMREAD_GRAYSCALE)\n",
    "    img = cv2.resize(img, IMG_SIZE)\n",
    "    img = img / 255.0  # Normalizar\n",
    "    img = np.expand_dims(img, axis=-1)  # Canal adicional\n",
    "    return img\n"
   ]
  },
  {
   "cell_type": "code",
   "execution_count": null,
   "id": "1aa00b2a",
   "metadata": {},
   "outputs": [],
   "source": [
    "def load_dataset(dataset_dir):\n",
    "    data = {}\n",
    "    for person in os.listdir(dataset_dir):\n",
    "        person_dir = os.path.join(dataset_dir, person)\n",
    "        if os.path.isdir(person_dir):\n",
    "            images = []\n",
    "            for fname in os.listdir(person_dir):\n",
    "                fpath = os.path.join(person_dir, fname)\n",
    "                try:\n",
    "                    img = preprocess_image(fpath)\n",
    "                    images.append(img)\n",
    "                except:\n",
    "                    print(f\"Error cargando: {fpath}\")\n",
    "            if len(images) >= 2:\n",
    "                data[person] = images\n",
    "    return data\n"
   ]
  },
  {
   "cell_type": "code",
   "execution_count": null,
   "id": "99152e76",
   "metadata": {},
   "outputs": [],
   "source": [
    "def generate_pairs(data, num_negatives_per_positive=1):\n",
    "    pairs = []\n",
    "    labels = []\n",
    "\n",
    "    for person, imgs in data.items():\n",
    "        for img1, img2 in combinations(imgs, 2):\n",
    "            pairs.append([img1, img2])\n",
    "            labels.append(1)  # Positivo\n",
    "\n",
    "            for _ in range(num_negatives_per_positive):\n",
    "                other_person = random.choice([p for p in data if p != person])\n",
    "                img_negative = random.choice(data[other_person])\n",
    "                pairs.append([img1, img_negative])\n",
    "                labels.append(0)  # Negativo\n",
    "\n",
    "    return np.array(pairs), np.array(labels)\n"
   ]
  },
  {
   "cell_type": "code",
   "execution_count": null,
   "id": "88e6b2c6",
   "metadata": {},
   "outputs": [],
   "source": [
    "print(\"📂 Cargando dataset...\")\n",
    "data = load_dataset(DATASET_DIR)\n",
    "\n",
    "print(\"🔧 Generando pares de entrenamiento...\")\n",
    "pairs, labels = generate_pairs(data)\n",
    "\n",
    "X1 = np.array([pair[0] for pair in pairs])\n",
    "X2 = np.array([pair[1] for pair in pairs])\n",
    "y = np.array(labels)\n",
    "\n",
    "print(f\"✅ Listo. Pares generados: {len(pairs)}\")\n",
    "print(f\"X1 shape: {X1.shape}, X2 shape: {X2.shape}, y shape: {y.shape}\")\n"
   ]
  },
  {
   "cell_type": "code",
   "execution_count": null,
   "id": "b099cf60",
   "metadata": {},
   "outputs": [],
   "source": [
    "def show_pair(img1, img2, label):\n",
    "    fig, ax = plt.subplots(1, 2)\n",
    "    ax[0].imshow(img1.squeeze(), cmap=\"gray\")\n",
    "    ax[1].imshow(img2.squeeze(), cmap=\"gray\")\n",
    "    plt.suptitle(f\"Etiqueta: {'Iguales' if label == 1 else 'Diferentes'}\")\n",
    "    plt.show()\n",
    "\n",
    "# Ver un ejemplo aleatorio\n",
    "i = random.randint(0, len(X1) - 1)\n",
    "show_pair(X1[i], X2[i], y[i])"
   ]
  }
 ],
 "metadata": {
  "kernelspec": {
   "display_name": ".env",
   "language": "python",
   "name": "python3"
  },
  "language_info": {
   "codemirror_mode": {
    "name": "ipython",
    "version": 3
   },
   "file_extension": ".py",
   "mimetype": "text/x-python",
   "name": "python",
   "nbconvert_exporter": "python",
   "pygments_lexer": "ipython3",
   "version": "3.10.0"
  }
 },
 "nbformat": 4,
 "nbformat_minor": 5
}
